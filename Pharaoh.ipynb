{
 "cells": [
  {
   "cell_type": "code",
   "execution_count": 7,
   "id": "bef0431b",
   "metadata": {},
   "outputs": [
    {
     "name": "stdout",
     "output_type": "stream",
     "text": [
      "['artistId', 'collectionId', 'trackId', 'artistName', 'collectionName', 'trackName', 'collectionPrice', 'trackPrice', 'releaseDate', 'collectionExplicitness', 'trackExplicitness', 'discCount', 'discNumber', 'trackCount', 'trackNumber', 'trackTimeMillis', 'country', 'currency', 'primaryGenreName', 'isStreamable']\n"
     ]
    }
   ],
   "source": [
    "import requests, json, urllib.parse\n",
    "base_url = 'https://itunes.apple.com/search'\n",
    "\n",
    "artist = 'Pharaoh'\n",
    "\n",
    "params = {\n",
    "    'term': artist,\n",
    "    'limit': 200,\n",
    "    'media': 'music',\n",
    "    'entity': 'song',\n",
    "    'attribute': 'artistTerm'\n",
    "}\n",
    "\n",
    "response = requests.get(f\"{base_url}?{urllib.parse.urlencode(params)}\")\n",
    "\n",
    "data = json.loads(response.text)\n",
    "data = data['results']\n",
    "\n",
    "import dateutil.parser\n",
    "data = map(lambda x: {**x, 'releaseDate': dateutil.parser.isoparse(x['releaseDate'])}, data)\n",
    "data = list(data)\n",
    "\n",
    "data = map(lambda x: {\n",
    "    'artistId': x['artistId'],\n",
    "    'collectionId': x['collectionId'],\n",
    "    'trackId': x['trackId'],\n",
    "    'artistName': x['artistName'],\n",
    "    'collectionName': x['collectionCensoredName'],\n",
    "    'trackName': x['trackCensoredName'],\n",
    "    'collectionPrice': x['collectionPrice'],\n",
    "    'trackPrice': x['trackPrice'],\n",
    "    'releaseDate': x['releaseDate'],\n",
    "    'collectionExplicitness': x['collectionExplicitness'],\n",
    "    'trackExplicitness': x['trackExplicitness'],\n",
    "    'discCount': x['discCount'],\n",
    "    'discNumber': x['discNumber'],\n",
    "    'trackCount': x['trackCount'],\n",
    "    'trackNumber': x['trackNumber'],\n",
    "    'trackTimeMillis': x['trackTimeMillis'],\n",
    "    'country': x['country'],\n",
    "    'currency': x['currency'],\n",
    "    'primaryGenreName': x['primaryGenreName'],\n",
    "    'isStreamable': x['isStreamable']\n",
    "}, data)\n",
    "data = list(data)\n",
    "print(list(data[0].keys()))"
   ]
  },
  {
   "cell_type": "code",
   "execution_count": 8,
   "id": "32e85655",
   "metadata": {},
   "outputs": [
    {
     "name": "stdout",
     "output_type": "stream",
     "text": [
      "{'Ghostemane & Pharaoh', 'Techno & PHARAOH', 'Pharaoh & 杨秋儒', 'EQRIC, PHARAØH & FJØRA', 'EQRIC, PHARAØH & Ceara Cavalieri', 'JEEMBO & PHARAOH', 'PHARAOH & Boulevard Depo', 'PHARAØH, EQRIC & EthanUno', 'Sam the Sham & The Pharaohs', 'KeyNG, 張馨月 & Pharaoh', 'EQRIC & PHARAØH', 'Pharaoh', 'PHARAOH', 'Monster High, Astranova, Pharaoh & Catty Noir', 'EQRIC & Pharaoh', 'Star Eyes & Pharaoh', 'Coopex, PHARAØH & EQRIC', 'EQRIC, PHARAØH & Timmy Commerford', 'Monster High, Pharaoh & Catty Noir', 'PHARAOH & I61', 'Pharaoh & Naggy', 'LOBODA & PHARAOH', 'Pharaoh, 宁大人 & 张迪'}\n"
     ]
    }
   ],
   "source": [
    "print(set(map(lambda x: x['artistName'], data)))\n",
    "data = filter(lambda x: artist.lower() in x['artistName'].lower(), data)\n",
    "data = list(data)"
   ]
  },
  {
   "cell_type": "code",
   "execution_count": 9,
   "id": "7d591ac7",
   "metadata": {},
   "outputs": [],
   "source": [
    "def convert_millis(millis: int) -> str:\n",
    "    total_seconds = millis // 1000\n",
    "    seconds = total_seconds % 60\n",
    "    minutes = (total_seconds // 60) % 60\n",
    "    hours = (total_seconds // (60 * 60))\n",
    "    return f\"{hours}:{minutes}:{seconds}\""
   ]
  },
  {
   "cell_type": "code",
   "execution_count": 5,
   "id": "f0bb5afe",
   "metadata": {},
   "outputs": [
    {
     "name": "stdout",
     "output_type": "stream",
     "text": [
      "NAME:               PHARAOH\n",
      "AMOUNT OF TRACKS:   200\n",
      "MAIN GENRE:         Alternative Rap\n",
      "AMOUNT OF ALBUMS:   Alternative Rap\n",
      "TOTAL TIME:         11:28:0\n",
      "MEAN TIME:          0:3:26\n",
      "MEDIAN TIME:        0:3:0\n",
      "LONGEST SONG:       By the Night Sky\n",
      "LONGEST SONG TIME:  0:8:12\n",
      "SHORTEST SONG:      Unum\n",
      "SHORTEST SONG TIME: 0:0:58\n",
      "TOTAL SUM:          237.11\n",
      "MEAN SUM:           1.19\n",
      "MEDIAN SUM:         1.29\n",
      "PRICIEST SONG:      Boo York, Boo York\n",
      "SONG PRICE:         1.29\n",
      "CHEAPEST SONG:      The Spider's Thread (Reprise)\n",
      "SONG PRICE:         -1.0\n"
     ]
    }
   ],
   "source": [
    "from statistics import mean, median\n",
    "name = max([data[i]['artistName'] for i in range(len(data))], key=[data[i]['artistName'] for i in range(len(data))].count)\n",
    "print(f\"NAME:               {name}\")\n",
    "track_kolvo = len(list(map(lambda x: x['trackId'],data)))\n",
    "print(f\"AMOUNT OF TRACKS:   {track_kolvo}\")\n",
    "main_genre = max(list(map(lambda x: x['primaryGenreName'], data)), key=list(map(lambda x: x['primaryGenreName'], data)).count)\n",
    "print(f\"MAIN GENRE:         {main_genre}\")\n",
    "albums_kolvo = len(set(map(lambda x: x['collectionId'], data)))\n",
    "print(f\"AMOUNT OF ALBUMS:   {main_genre}\")\n",
    "total_time = convert_millis(sum(list(map(lambda x: x['trackTimeMillis'], data))))\n",
    "print(f\"TOTAL TIME:         {total_time}\")\n",
    "mean_time = convert_millis(round(mean(list(map(lambda x: x['trackTimeMillis'], data)))))\n",
    "print(f\"MEAN TIME:          {mean_time}\")\n",
    "median_time = convert_millis(round(median(list(map(lambda x: x['trackTimeMillis'], data)))))\n",
    "print(f\"MEDIAN TIME:        {median_time}\")\n",
    "longest_song = max(list(map(lambda x: [x['trackTimeMillis'], x['trackName']], data)), key=lambda x: x[0])[1]\n",
    "print(f\"LONGEST SONG:       {longest_song}\")\n",
    "longest_song_time = convert_millis(max(list(map(lambda x: [x['trackTimeMillis'], x['trackName']], data)), key=lambda x: x[0])[0])\n",
    "print(f\"LONGEST SONG TIME:  {longest_song_time}\")\n",
    "shortest_song = min(list(map(lambda x: [x['trackTimeMillis'], x['trackName']], data)), key=lambda x: x[0])[1]\n",
    "print(f\"SHORTEST SONG:      {shortest_song}\")\n",
    "shortest_song_time = convert_millis(min(list(map(lambda x: [x['trackTimeMillis'], x['trackName']], data)), key=lambda x: x[0])[0])\n",
    "print(f\"SHORTEST SONG TIME: {shortest_song_time}\")\n",
    "total_sum = round(sum(list(map(lambda x: x['trackPrice'], data))), 2)\n",
    "print(f\"TOTAL SUM:          {total_sum}\")\n",
    "mean_sum = round(mean(list(map(lambda x: x['trackPrice'], data))), 2)\n",
    "print(f\"MEAN SUM:           {mean_sum}\")\n",
    "median_sum = round(median(list(map(lambda x: x['trackPrice'], data))), 2)\n",
    "print(f\"MEDIAN SUM:         {median_sum}\")\n",
    "most_song = max(list(map(lambda x: [x['trackPrice'], x['trackName']], data)), key=lambda x: x[0])[1]\n",
    "print(f\"PRICIEST SONG:      {most_song}\")\n",
    "most_song_price = max(list(map(lambda x: [x['trackPrice'], x['trackName']], data)), key=lambda x: x[0])[0]\n",
    "print(f\"SONG PRICE:         {most_song_price}\")\n",
    "cheapest_song = min(list(map(lambda x: [x['trackPrice'], x['trackName']], data)), key=lambda x: x[0])[1]\n",
    "print(f\"CHEAPEST SONG:      {cheapest_song}\")\n",
    "cheapest_song_price = min(list(map(lambda x: [x['trackPrice'], x['trackName']], data)), key=lambda x: x[0])[0]\n",
    "print(f\"SONG PRICE:         {cheapest_song_price}\")"
   ]
  },
  {
   "cell_type": "code",
   "execution_count": 6,
   "id": "1d3947fc",
   "metadata": {},
   "outputs": [
    {
     "name": "stdout",
     "output_type": "stream",
     "text": [
      "NAME:               Million Dollar Depression\n",
      "AMOUNT OF TRACKS:   8\n",
      "MAIN GENRE:         Hip-Hop/Rap\n",
      "RELEASE DATE:       Hip-Hop/Rap\n",
      "TOTAL TIME:         0:21:45\n",
      "MEAN TIME:          0:2:43\n",
      "MEDIAN TIME:        0:2:42\n",
      "LONGEST SONG:       Эми\n",
      "LONGEST SONG TIME:  0:3:25\n",
      "SHORTEST SONG:      Перед Смертью Все Равны\n",
      "SHORTEST SONG TIME: 0:2:4\n",
      "TOTAL SUM:          10.32\n",
      "MEAN SUM:           1.29\n",
      "MEDIAN SUM:         1.29\n",
      "PRICIEST SONG:      Всему Своё Время\n",
      "SONG PRICE:         1.29\n",
      "CHEAPEST SONG:      Всему Своё Время\n",
      "SONG PRICE:         1.29\n"
     ]
    }
   ],
   "source": [
    "album = [d for d in data if d['collectionName'] == \"Million Dollar Depression\"]\n",
    "name = album[0]['collectionName']\n",
    "track_kolvo = len(list(map(lambda x: x['trackId'],album)))\n",
    "main_genre = max(list(map(lambda x: x['primaryGenreName'], album)), key=list(map(lambda x: x['primaryGenreName'], album)).count)\n",
    "release_date = album[0]['releaseDate']\n",
    "total_time = convert_millis(sum(list(map(lambda x: x['trackTimeMillis'], album))))\n",
    "mean_time = convert_millis(round(mean(list(map(lambda x: x['trackTimeMillis'], album)))))\n",
    "median_time = convert_millis(round(median(list(map(lambda x: x['trackTimeMillis'], album)))))\n",
    "longest_song = max(list(map(lambda x: [x['trackTimeMillis'], x['trackName']], album)), key=lambda x: x[0])[1]\n",
    "longest_song_time = convert_millis(max(list(map(lambda x: [x['trackTimeMillis'], x['trackName']], album)), key=lambda x: x[0])[0])\n",
    "shortest_song = min(list(map(lambda x: [x['trackTimeMillis'], x['trackName']], album)), key=lambda x: x[0])[1]\n",
    "shortest_song_time = convert_millis(min(list(map(lambda x: [x['trackTimeMillis'], x['trackName']], album)), key=lambda x: x[0])[0])\n",
    "\n",
    "total_sum = sum(list(map(lambda x: x['trackPrice'], album)))\n",
    "mean_sum = mean(list(map(lambda x: x['trackPrice'], album)))\n",
    "median_sum = median(list(map(lambda x: x['trackPrice'], album)))\n",
    "most_song = max(list(map(lambda x: [x['trackPrice'], x['trackName']], album)), key=lambda x: x[0])[1]\n",
    "most_song_price = max(list(map(lambda x: [x['trackPrice'], x['trackName']], album)), key=lambda x: x[0])[0]\n",
    "cheapest_song = min(list(map(lambda x: [x['trackPrice'], x['trackName']], album)), key=lambda x: x[0])[1]\n",
    "cheapest_song_price = min(list(map(lambda x: [x['trackPrice'], x['trackName']], album)), key=lambda x: x[0])[0]\n",
    "\n",
    "print(f\"NAME:               {name}\")\n",
    "print(f\"AMOUNT OF TRACKS:   {track_kolvo}\")\n",
    "print(f\"MAIN GENRE:         {main_genre}\")\n",
    "print(f\"RELEASE DATE:       {main_genre}\")\n",
    "print(f\"TOTAL TIME:         {total_time}\")\n",
    "print(f\"MEAN TIME:          {mean_time}\")\n",
    "print(f\"MEDIAN TIME:        {median_time}\")\n",
    "print(f\"LONGEST SONG:       {longest_song}\")\n",
    "print(f\"LONGEST SONG TIME:  {longest_song_time}\")\n",
    "print(f\"SHORTEST SONG:      {shortest_song}\")\n",
    "print(f\"SHORTEST SONG TIME: {shortest_song_time}\")\n",
    "print(f\"TOTAL SUM:          {total_sum}\")\n",
    "print(f\"MEAN SUM:           {mean_sum}\")\n",
    "print(f\"MEDIAN SUM:         {median_sum}\")\n",
    "print(f\"PRICIEST SONG:      {most_song}\")\n",
    "print(f\"SONG PRICE:         {most_song_price}\")\n",
    "print(f\"CHEAPEST SONG:      {cheapest_song}\")\n",
    "print(f\"SONG PRICE:         {cheapest_song_price}\")"
   ]
  },
  {
   "cell_type": "code",
   "execution_count": null,
   "id": "68de6101",
   "metadata": {},
   "outputs": [],
   "source": []
  }
 ],
 "metadata": {
  "kernelspec": {
   "display_name": "Python 3.11.0 64-bit",
   "language": "python",
   "name": "python3"
  },
  "language_info": {
   "codemirror_mode": {
    "name": "ipython",
    "version": 3
   },
   "file_extension": ".py",
   "mimetype": "text/x-python",
   "name": "python",
   "nbconvert_exporter": "python",
   "pygments_lexer": "ipython3",
   "version": "3.11.0"
  },
  "vscode": {
   "interpreter": {
    "hash": "77e0f6ef9b5db36fce04f55e31163feff159eace6393c7d7bb496e016bb49255"
   }
  }
 },
 "nbformat": 4,
 "nbformat_minor": 5
}
